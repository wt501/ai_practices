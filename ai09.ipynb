{
  "cells": [
    {
      "cell_type": "code",
      "execution_count": 8,
      "metadata": {
        "colab": {
          "base_uri": "https://localhost:8080/"
        },
        "id": "wXiNGwE4ypJv",
        "outputId": "a92a9405-5d5b-480c-d08b-6c0fde796906"
      },
      "outputs": [
        {
          "name": "stdout",
          "output_type": "stream",
          "text": [
            "Drive already mounted at /content/drive; to attempt to forcibly remount, call drive.mount(\"/content/drive\", force_remount=True).\n"
          ]
        }
      ],
      "source": [
        "# おまじない\n",
        "import matplotlib.pyplot as plt\n",
        "import numpy as np\n",
        "import pandas as pd\n",
        "from IPython.display import display\n",
        "\n",
        "from tensorflow import keras\n",
        "\n",
        "from google.colab import drive\n",
        "drive.mount('/content/drive')\n",
        "\n",
        "# 各列の名称\n",
        "column_names = [\"MPG\", \"Cylinders\", \"Displacement\", \"Horsepower\", \"Weight\", \"Acceleration\", \"Model Year\", \"Origin\", \"Car Names\"]\n",
        "\n",
        "# データの整理\n",
        "dataset = pd.read_excel(\"drive/MyDrive/auto-mpg.xlsx\", sheet_name=0, names=column_names)    # データの読み込み\n",
        "dataset = dataset.drop(\"Car Names\", axis=1)     # 車名の列を削除\n",
        "dataset[\"Origin\"] = dataset[\"Origin\"].map({1: \"USA\", 2: \"Europe\", 3: \"Japan\"})  # 1をUSA、2をEurope、3をJapanに置換\n",
        "dataset = pd.get_dummies(dataset, columns=[\"Origin\"], dtype=int)   # カテゴリデータを数値データに変換\n",
        "\n",
        "# データを学習用とテスト用に分離\n",
        "train_dataset = dataset.sample(frac=0.8, random_state=0)    # 8割を学習用に\n",
        "test_dataset = dataset.drop(train_dataset.index)            # 残りをテスト用に\n",
        "\n",
        "# 説明変数と目的変数に分離\n",
        "train_x = train_dataset.copy()  # train_xにtrain_datasetをコピー\n",
        "test_x = test_dataset.copy()    # test_xにtest_datasetをコピー\n",
        "train_y = train_x.pop(\"MPG\")    # train_xからMPGの列を取り出しtrain_yに代入\n",
        "test_y = test_x.pop(\"MPG\")      # test_xからMPGの列を取り出しtest_yに代入\n",
        "\n",
        "# np.array形式に変換\n",
        "train_x = np.array(train_x)\n",
        "train_y = np.array(train_y)\n",
        "test_x = np.array(test_x)\n",
        "test_y = np.array(test_y)"
      ]
    },
    {
      "cell_type": "code",
      "execution_count": 6,
      "metadata": {
        "colab": {
          "base_uri": "https://localhost:8080/",
          "height": 800
        },
        "id": "ubQW9artLl5S",
        "outputId": "ae7a9de1-b5a6-4c88-9fdf-7cacc57aef26"
      },
      "outputs": [
        {
          "name": "stdout",
          "output_type": "stream",
          "text": [
            "Model: \"sequential\"\n",
            "_________________________________________________________________\n",
            " Layer (type)                Output Shape              Param #   \n",
            "=================================================================\n",
            " normalization_1 (Normaliza  (None, 9)                 19        \n",
            " tion)                                                           \n",
            "                                                                 \n",
            " dense (Dense)               (None, 64)                640       \n",
            "                                                                 \n",
            " dense_1 (Dense)             (None, 64)                4160      \n",
            "                                                                 \n",
            " dense_2 (Dense)             (None, 1)                 65        \n",
            "                                                                 \n",
            "=================================================================\n",
            "Total params: 4884 (19.08 KB)\n",
            "Trainable params: 4865 (19.00 KB)\n",
            "Non-trainable params: 19 (80.00 Byte)\n",
            "_________________________________________________________________\n"
          ]
        },
        {
          "data": {
            "image/png": "[encoded data removed]",
            "text/plain": [
              "<Figure size 640x480 with 1 Axes>"
            ]
          },
          "metadata": {},
          "output_type": "display_data"
        },
        {
          "name": "stdout",
          "output_type": "stream",
          "text": [
            "test loss = 1.6787461042404175\n"
          ]
        }
      ],
      "source": [
        "### DNN回帰 ####################################################################\n",
        "\n",
        "# 標準化層のパラメータ計算（平均および分散の計算）\n",
        "normalizer = keras.layers.Normalization(axis=-1)\n",
        "normalizer.adapt(train_x)\n",
        "\n",
        "# モデルの定義\n",
        "model = keras.Sequential([\n",
        "    normalizer,                                 # 標準化層\n",
        "    keras.layers.Dense(64, activation='relu'),  # 全結合層（ユニット数64）\n",
        "    keras.layers.Dense(64, activation='relu'),  # 全結合層（ユニット数64）\n",
        "    keras.layers.Dense(1)                       # 全結合層（出力層）\n",
        "])\n",
        "\n",
        "# 誤差関数および最適化手法の設定\n",
        "model.compile(\n",
        "    loss='mean_absolute_error',\n",
        "    optimizer=keras.optimizers.Adam(0.001)\n",
        ")\n",
        "model.summary()\n",
        "\n",
        "# 学習\n",
        "history = model.fit(\n",
        "    train_x,    # 燃費以外のデータ（説明変数）\n",
        "    train_y,    # 燃費（目的変数）\n",
        "    epochs=100, # 学習回数\n",
        "    verbose=0,  # 学習進捗表示（1:表示、0:非表示）\n",
        "    validation_split = 0.2  # 検証データの割合\n",
        ")\n",
        "\n",
        "# 学習結果の表示\n",
        "plt.plot(history.history['loss'], label='loss')\n",
        "plt.plot(history.history['val_loss'], label='val_loss')\n",
        "plt.xlabel('Epoch')\n",
        "plt.ylabel('Error')\n",
        "plt.legend()\n",
        "plt.grid(True)\n",
        "plt.show()\n",
        "\n",
        "# モデルの評価\n",
        "test_results = model.evaluate(test_x, test_y, verbose=0)\n",
        "print(f\"test loss = {test_results}\")"
      ]
    },
    {
      "cell_type": "code",
      "execution_count": 7,
      "metadata": {
        "colab": {
          "base_uri": "https://localhost:8080/"
        },
        "id": "AkX65_Mqewhb",
        "outputId": "6239565b-8941-4439-954b-8b072e0b8f3c"
      },
      "outputs": [
        {
          "name": "stdout",
          "output_type": "stream",
          "text": [
            "[8.0, 400.0, 175.0, 4464.0, 11.5, 71.0, 0.0, 0.0, 1.0]からモデルが予測した燃費は 12.37 miles/gallon, 本当は 14.00 miles/gallon\n",
            "[8, 307, 130, 3504, 12, 70, 1, 0, 0]からモデルが予測した燃費は 9.62 miles/gallon\n"
          ]
        }
      ],
      "source": [
        "# テストデータからの予測\n",
        "i = 5                     # テストデータの番号\n",
        "x = test_x[i].tolist()    # 予測に使うx\n",
        "y = test_y[i]             # 正しい燃費の値\n",
        "p = model.predict([x], verbose=False)[0][0]  # モデルによる予測値\n",
        "print(f\"{x}からモデルが予測した燃費は {p:.2f} miles/gallon, 本当は {y:.2f} miles/gallon\")\n",
        "\n",
        "# 手作りデータからの予測\n",
        "x = [8, 307, 130, 3504, 12, 70, 1, 0, 0]      # 左から順に、気筒数、排気量、馬力、重さ、加速度、年式、国（アメリカ、ヨーロッパ、日本）\n",
        "p = model.predict([x], verbose=False)[0][0]   # モデルによる予測値\n",
        "print(f\"{x}からモデルが予測した燃費は {p:.2f} miles/gallon\")"
      ]
    }
  ],
  "metadata": {
    "colab": {
      "provenance": []
    },
    "kernelspec": {
      "display_name": "Python 3",
      "name": "python3"
    },
    "language_info": {
      "name": "python"
    }
  },
  "nbformat": 4,
  "nbformat_minor": 0
}
